{
 "cells": [
  {
   "cell_type": "markdown",
   "id": "2d4c7cd2-2b50-4ceb-b6f1-aa2769040602",
   "metadata": {
    "ExecuteTime": {
     "end_time": "2022-04-01T12:29:58.470036Z",
     "start_time": "2022-04-01T12:29:58.456997Z"
    }
   },
   "source": [
    "# Combine Input data - Operational Congestion Management\n",
    "Converts raw data exports from the DataLake into a prepped input format.\n",
    "\n",
    "The raw files are not included in the repository.\n",
    "\n",
    "This notebook can be used as reference on how to prep data from your own DataLake, and for inspection of some intermediate data."
   ]
  },
  {
   "cell_type": "code",
   "execution_count": 2,
   "id": "56909374",
   "metadata": {
    "ExecuteTime": {
     "end_time": "2022-04-01T14:34:14.914805Z",
     "start_time": "2022-04-01T14:34:14.886772Z"
    },
    "tags": []
   },
   "outputs": [
    {
     "data": {
      "text/html": [
       "        <script type=\"text/javascript\">\n",
       "        window.PlotlyConfig = {MathJaxConfig: 'local'};\n",
       "        if (window.MathJax && window.MathJax.Hub && window.MathJax.Hub.Config) {window.MathJax.Hub.Config({SVG: {font: \"STIX-Web\"}});}\n",
       "        if (typeof require !== 'undefined') {\n",
       "        require.undef(\"plotly\");\n",
       "        requirejs.config({\n",
       "            paths: {\n",
       "                'plotly': ['https://cdn.plot.ly/plotly-2.12.1.min']\n",
       "            }\n",
       "        });\n",
       "        require(['plotly'], function(Plotly) {\n",
       "            window._Plotly = Plotly;\n",
       "        });\n",
       "        }\n",
       "        </script>\n",
       "        "
      ]
     },
     "metadata": {},
     "output_type": "display_data"
    },
    {
     "name": "stdout",
     "output_type": "stream",
     "text": [
      "2022-11-29 14:55.14 [info     ] Proloaf not available, setting constructor to None\n"
     ]
    }
   ],
   "source": [
    "import glob\n",
    "import warnings\n",
    "import datetime\n",
    "import os\n",
    "import yaml\n",
    "\n",
    "import numpy as np\n",
    "import pandas as pd\n",
    "\n",
    "import scipy\n",
    "\n",
    "from tqdm import tqdm_notebook as tqdm\n",
    "\n",
    "import cufflinks\n",
    "cufflinks.go_offline()\n",
    "import plotly.io as pio\n",
    "import plotly.express as px\n",
    "import plotly.graph_objs as go\n",
    "pio.renderers.default = 'iframe'\n",
    "\n",
    "from openstef.pipeline.train_create_forecast_backtest import train_model_and_forecast_back_test\n",
    "from openstef.metrics.figure import plot_feature_importance\n",
    "from openstef.data_classes.model_specifications import ModelSpecificationDataClass\n",
    "from openstef.data_classes.prediction_job import PredictionJobDataClass"
   ]
  },
  {
   "cell_type": "markdown",
   "id": "0d3a1b56-d847-42d4-8f20-6343552c0cd3",
   "metadata": {},
   "source": [
    "## Retrieve other input data\n",
    "First things first, lets prep all the relevant input data:\n",
    " - measurements of windpark\n",
    " - measurements of nearby solar park\n",
    " - realised_curtailment (from actual scaled down wind power (NOT LC_windpark estimates)"
   ]
  },
  {
   "cell_type": "markdown",
   "id": "d43e914b-4bce-4a2a-9e94-965a110391ac",
   "metadata": {
    "tags": []
   },
   "source": [
    "## Estimate actual curtailment (based on n_turbines curtailed)\n",
    "For Hallum, mitigations are 'turn of n turbines'. The LC_windpark_Nijkerkerpolder estimates the curtailment based on windspeed and turbine specs. <br>\n",
    "We can improve this by rescaling the actual generation of the turbines which are not curtailed.<br>\n",
    "\n",
    "The measured load is corrected for mitigations which where activated. <br>\n",
    "This was for example the case on April 5th 2021:<br>\n",
    "![Stuurcorrecties](input/figs/Hal_202104_stuurcorrecties.PNG)\n"
   ]
  },
  {
   "cell_type": "code",
   "execution_count": 26,
   "id": "f5b564fa-cb55-4f1c-a431-fa79bb4aaeb1",
   "metadata": {},
   "outputs": [],
   "source": [
    "# Define datafiles\n",
    "hal_pv_file = 'raw/hal_pv_from_lw_2020-2022.csv' # old: '../ERC_cm_data/hal_pv_from_lw.csv'\n",
    "hal_load_wind_file = 'raw/hal_wind_trafo_wob_2020_2022.csv' # old: '../ERC_cm_data/hal_wind_trafo_wob.csv'\n",
    "hal_mitigation_actions_file = 'raw/hal_mitigation_actions.csv'\n",
    "hal_operational_forecasts_file =  'raw/435_24h_p98.csv' # '../ERC_cm_data/435_24h_p98_2020_2022.csv' # old:\n",
    "\n",
    "# Read operational forecasts\n",
    "d = pd.read_csv(hal_operational_forecasts_file, index_col=0, parse_dates=True).tz_localize('UTC')\n",
    "\n",
    "# Load PV, PV park (LW 10-5 V5.05) -> download manually from the wop (mrid = 725e71a0-1288-5105-96b7-4876d5061845, perhaps in future retrieve from TelRegistry?\n",
    "p = pd.read_csv(hal_pv_file, sep=';', decimal=',')\n",
    "# Note that WOP is in local time\n",
    "p['datetime'] = pd.to_datetime([f'{d}T{t}' for d, t in zip(p[' Datum'], p['Tijd'])]).tz_localize('CET', ambiguous='NaT', nonexistent='NaT').tz_convert('UTC')\n",
    "# remove NAT\n",
    "p = p[~p.datetime.isnull()]\n",
    "p = p.set_index('datetime').iloc[:,2:-1]\n",
    "hal_pv = p\n",
    "hal_pv.columns=['PV - reference']\n",
    "\n",
    "# Load wind &  measured_load -> retrieve manually from wop (Hal- V06 (trafo: 99120451-786d-5761-86c9-58f2a29013c5) and V08 (windpark: 45e4075e-0723-5adf-9c3f-b9e1bae61b4c) )\n",
    "# Note that the wind_ref needs to be corrected for mitigations as well! This will be done at the same point as where the load is corrected.\n",
    "h = pd.read_csv(hal_load_wind_file, sep=';', decimal=',')\n",
    "# Note that WOP is in local time\n",
    "h['datetime'] = pd.to_datetime([f'{d}T{t}' for d, t in zip(h[' Datum'], h['Tijd'])]).tz_localize('CET', ambiguous='NaT', nonexistent='NaT').tz_convert('UTC')\n",
    "# Remove NATs\n",
    "h = h[~h.datetime.isnull()]\n",
    "\n",
    "h = h.set_index('datetime').iloc[:,2:-1]\n",
    "# rename\n",
    "hal_names = {'Hal-RS-10-G-V06-P':'Obs',\n",
    "             'Hal-RS-10-G-V08-P':'Wind'}\n",
    "h=h.rename(columns=hal_names)\n",
    "# Invert polarity of obs\n",
    "h['Obs'] *= -1\n",
    "\n",
    "# Combine it all\n",
    "hal = d.loc[:,['Realised - Total', '24.0 Hours Ahead']].merge(h, left_index=True, right_index=True, how='left').merge(hal_pv, left_index=True, right_index=True, how='left')"
   ]
  },
  {
   "cell_type": "markdown",
   "id": "9ef4cbc6-b241-48d3-aa6c-221aa6c378ce",
   "metadata": {},
   "source": [
    "## Plot Figure 1"
   ]
  },
  {
   "cell_type": "code",
   "execution_count": 4,
   "id": "628279f1-8be5-455d-bd15-bd2b8ce23192",
   "metadata": {},
   "outputs": [],
   "source": [
    "# Plot timeseries of max, avg and min load per day\n",
    "dailies = d[['Realised - Total']].resample('1D').aggregate(['mean',\n",
    "                                                            'max',\n",
    "                                                            'min'])['Realised - Total']\n",
    "\n",
    "fig1a = dailies.iplot(layout=dict(template='plotly_white',\n",
    "                          yaxis=dict(title='Daily load [MW]'),\n",
    "                          width=600, height=400), asFigure=True)\n",
    "# manually hide 'mean' for clarity\n",
    "fig1a.write_image(\"results/figs/fig1a.svg\")\n"
   ]
  },
  {
   "cell_type": "code",
   "execution_count": 5,
   "id": "eeeb7917-3045-4364-b7e2-a3c5a59379ab",
   "metadata": {},
   "outputs": [
    {
     "data": {
      "text/html": [
       "<iframe\n",
       "    scrolling=\"no\"\n",
       "    width=\"620px\"\n",
       "    height=\"420\"\n",
       "    src=\"iframe_figures/figure_5.html\"\n",
       "    frameborder=\"0\"\n",
       "    allowfullscreen\n",
       "></iframe>\n"
      ]
     },
     "metadata": {},
     "output_type": "display_data"
    }
   ],
   "source": [
    "fig1a"
   ]
  },
  {
   "cell_type": "code",
   "execution_count": 6,
   "id": "76bbed36-ed32-4176-9c35-3df2c4172c22",
   "metadata": {},
   "outputs": [],
   "source": [
    "fig1b = d.loc['2021-04-02':'2021-04-09','Realised - Total'].iplot(layout=dict(template='plotly_white',\n",
    "                          yaxis=dict(title='Load [MW]'),\n",
    "                          width=600, height=300), asFigure=True)\n",
    "fig1b.write_image('results/figs/fig1b.svg')"
   ]
  },
  {
   "cell_type": "markdown",
   "id": "3be8bb6f-f802-4d8e-8203-fe1aac5c1ca8",
   "metadata": {},
   "source": [
    "## Correct for mitigations"
   ]
  },
  {
   "cell_type": "code",
   "execution_count": 7,
   "id": "9b095423-8e8a-437e-b2d4-7cfbfb934f39",
   "metadata": {},
   "outputs": [
    {
     "data": {
      "text/html": [
       "<div>\n",
       "<style scoped>\n",
       "    .dataframe tbody tr th:only-of-type {\n",
       "        vertical-align: middle;\n",
       "    }\n",
       "\n",
       "    .dataframe tbody tr th {\n",
       "        vertical-align: top;\n",
       "    }\n",
       "\n",
       "    .dataframe thead th {\n",
       "        text-align: right;\n",
       "    }\n",
       "</style>\n",
       "<table border=\"1\" class=\"dataframe\">\n",
       "  <thead>\n",
       "    <tr style=\"text-align: right;\">\n",
       "      <th></th>\n",
       "      <th>date</th>\n",
       "      <th>aantal turbines uitgezet</th>\n",
       "      <th>inzet</th>\n",
       "      <th>generated_wind</th>\n",
       "      <th>frac_turbines_off</th>\n",
       "      <th>curtailed_power</th>\n",
       "    </tr>\n",
       "    <tr>\n",
       "      <th>index</th>\n",
       "      <th></th>\n",
       "      <th></th>\n",
       "      <th></th>\n",
       "      <th></th>\n",
       "      <th></th>\n",
       "      <th></th>\n",
       "    </tr>\n",
       "  </thead>\n",
       "  <tbody>\n",
       "    <tr>\n",
       "      <th>2020-04-05 06:00:00+00:00</th>\n",
       "      <td>2020-04-05</td>\n",
       "      <td>3</td>\n",
       "      <td>gepland</td>\n",
       "      <td>NaN</td>\n",
       "      <td>0.428571</td>\n",
       "      <td>NaN</td>\n",
       "    </tr>\n",
       "    <tr>\n",
       "      <th>2020-04-05 06:15:00+00:00</th>\n",
       "      <td>2020-04-05</td>\n",
       "      <td>3</td>\n",
       "      <td>gepland</td>\n",
       "      <td>NaN</td>\n",
       "      <td>0.428571</td>\n",
       "      <td>NaN</td>\n",
       "    </tr>\n",
       "    <tr>\n",
       "      <th>2020-04-05 06:30:00+00:00</th>\n",
       "      <td>2020-04-05</td>\n",
       "      <td>3</td>\n",
       "      <td>gepland</td>\n",
       "      <td>NaN</td>\n",
       "      <td>0.428571</td>\n",
       "      <td>NaN</td>\n",
       "    </tr>\n",
       "    <tr>\n",
       "      <th>2020-04-05 06:45:00+00:00</th>\n",
       "      <td>2020-04-05</td>\n",
       "      <td>3</td>\n",
       "      <td>gepland</td>\n",
       "      <td>NaN</td>\n",
       "      <td>0.428571</td>\n",
       "      <td>NaN</td>\n",
       "    </tr>\n",
       "    <tr>\n",
       "      <th>2020-04-05 07:00:00+00:00</th>\n",
       "      <td>2020-04-05</td>\n",
       "      <td>3</td>\n",
       "      <td>gepland</td>\n",
       "      <td>NaN</td>\n",
       "      <td>0.428571</td>\n",
       "      <td>NaN</td>\n",
       "    </tr>\n",
       "    <tr>\n",
       "      <th>...</th>\n",
       "      <td>...</td>\n",
       "      <td>...</td>\n",
       "      <td>...</td>\n",
       "      <td>...</td>\n",
       "      <td>...</td>\n",
       "      <td>...</td>\n",
       "    </tr>\n",
       "    <tr>\n",
       "      <th>2022-06-12 15:00:00+00:00</th>\n",
       "      <td>2022-06-12</td>\n",
       "      <td>2</td>\n",
       "      <td>gepland</td>\n",
       "      <td>NaN</td>\n",
       "      <td>0.285714</td>\n",
       "      <td>NaN</td>\n",
       "    </tr>\n",
       "    <tr>\n",
       "      <th>2022-06-12 15:15:00+00:00</th>\n",
       "      <td>2022-06-12</td>\n",
       "      <td>2</td>\n",
       "      <td>gepland</td>\n",
       "      <td>NaN</td>\n",
       "      <td>0.285714</td>\n",
       "      <td>NaN</td>\n",
       "    </tr>\n",
       "    <tr>\n",
       "      <th>2022-06-12 15:30:00+00:00</th>\n",
       "      <td>2022-06-12</td>\n",
       "      <td>2</td>\n",
       "      <td>gepland</td>\n",
       "      <td>NaN</td>\n",
       "      <td>0.285714</td>\n",
       "      <td>NaN</td>\n",
       "    </tr>\n",
       "    <tr>\n",
       "      <th>2022-06-12 15:45:00+00:00</th>\n",
       "      <td>2022-06-12</td>\n",
       "      <td>2</td>\n",
       "      <td>gepland</td>\n",
       "      <td>NaN</td>\n",
       "      <td>0.285714</td>\n",
       "      <td>NaN</td>\n",
       "    </tr>\n",
       "    <tr>\n",
       "      <th>2022-06-12 16:00:00+00:00</th>\n",
       "      <td>2022-06-12</td>\n",
       "      <td>2</td>\n",
       "      <td>gepland</td>\n",
       "      <td>NaN</td>\n",
       "      <td>0.285714</td>\n",
       "      <td>NaN</td>\n",
       "    </tr>\n",
       "  </tbody>\n",
       "</table>\n",
       "<p>1943 rows × 6 columns</p>\n",
       "</div>"
      ],
      "text/plain": [
       "                                 date  aantal turbines uitgezet    inzet  \\\n",
       "index                                                                      \n",
       "2020-04-05 06:00:00+00:00  2020-04-05                         3  gepland   \n",
       "2020-04-05 06:15:00+00:00  2020-04-05                         3  gepland   \n",
       "2020-04-05 06:30:00+00:00  2020-04-05                         3  gepland   \n",
       "2020-04-05 06:45:00+00:00  2020-04-05                         3  gepland   \n",
       "2020-04-05 07:00:00+00:00  2020-04-05                         3  gepland   \n",
       "...                               ...                       ...      ...   \n",
       "2022-06-12 15:00:00+00:00  2022-06-12                         2  gepland   \n",
       "2022-06-12 15:15:00+00:00  2022-06-12                         2  gepland   \n",
       "2022-06-12 15:30:00+00:00  2022-06-12                         2  gepland   \n",
       "2022-06-12 15:45:00+00:00  2022-06-12                         2  gepland   \n",
       "2022-06-12 16:00:00+00:00  2022-06-12                         2  gepland   \n",
       "\n",
       "                           generated_wind  frac_turbines_off  curtailed_power  \n",
       "index                                                                          \n",
       "2020-04-05 06:00:00+00:00             NaN           0.428571              NaN  \n",
       "2020-04-05 06:15:00+00:00             NaN           0.428571              NaN  \n",
       "2020-04-05 06:30:00+00:00             NaN           0.428571              NaN  \n",
       "2020-04-05 06:45:00+00:00             NaN           0.428571              NaN  \n",
       "2020-04-05 07:00:00+00:00             NaN           0.428571              NaN  \n",
       "...                                   ...                ...              ...  \n",
       "2022-06-12 15:00:00+00:00             NaN           0.285714              NaN  \n",
       "2022-06-12 15:15:00+00:00             NaN           0.285714              NaN  \n",
       "2022-06-12 15:30:00+00:00             NaN           0.285714              NaN  \n",
       "2022-06-12 15:45:00+00:00             NaN           0.285714              NaN  \n",
       "2022-06-12 16:00:00+00:00             NaN           0.285714              NaN  \n",
       "\n",
       "[1943 rows x 6 columns]"
      ]
     },
     "execution_count": 7,
     "metadata": {},
     "output_type": "execute_result"
    }
   ],
   "source": [
    "# List all stuur actions. Received by HvdG, from MvV, used for compenstation\n",
    "mit_actions = pd.read_csv(hal_mitigation_actions_file, sep='\\t')\n",
    "mit_actions['date']=[x.date() for x in pd.to_datetime(mit_actions['Datum'])]\n",
    "indices = [pd.date_range(start=f'{x[0]} {x[3]}', end=f'{x[0]} {x[4]}', freq='15T') for _, x in mit_actions.iterrows()]\n",
    "indices = [item for sublist in indices for item in sublist]\n",
    "scaled_mit_df = pd.DataFrame(index=indices).tz_localize('CET')\n",
    "# Merge with actions\n",
    "scaled_mit_df['date'] = scaled_mit_df.index.date\n",
    "scaled_mit_df = scaled_mit_df.reset_index().merge(mit_actions[['date','aantal turbines uitgezet', 'inzet']], left_on='date', right_on='date', how='outer').set_index('index')\n",
    "scaled_mit_df = scaled_mit_df.merge(hal[['Wind']].dropna().rename(columns=dict(Wind='generated_wind')), left_index=True, right_index=True, how='left')\n",
    "scaled_mit_df['frac_turbines_off'] = scaled_mit_df['aantal turbines uitgezet']/7.\n",
    "scaled_mit_df['curtailed_power'] = scaled_mit_df['frac_turbines_off']*scaled_mit_df['generated_wind']\n",
    "# curtailed_power equals LoadCorrections_Actual_wind, based on measurements of uncurtailed windturbines\n",
    "scaled_mit_df "
   ]
  },
  {
   "cell_type": "code",
   "execution_count": 8,
   "id": "66d0e72f-ec8b-4dc2-9eb4-3800b5b0db7e",
   "metadata": {},
   "outputs": [
    {
     "data": {
      "text/html": [
       "<iframe\n",
       "    scrolling=\"no\"\n",
       "    width=\"100%\"\n",
       "    height=\"545px\"\n",
       "    src=\"iframe_figures/figure_8.html\"\n",
       "    frameborder=\"0\"\n",
       "    allowfullscreen\n",
       "></iframe>\n"
      ]
     },
     "metadata": {},
     "output_type": "display_data"
    }
   ],
   "source": [
    "fig = go.Figure()\n",
    "for inzet in ['gepland','ongepland']:\n",
    "    subset = scaled_mit_df[scaled_mit_df.inzet==inzet]\n",
    "    fig.add_scatter(x=subset.index, y=subset['aantal turbines uitgezet'], name=inzet, mode='markers')\n",
    "fig.show()"
   ]
  },
  {
   "cell_type": "code",
   "execution_count": 9,
   "id": "177350e3-7c58-4cff-bdb0-bce1de83c9ee",
   "metadata": {},
   "outputs": [
    {
     "data": {
      "text/html": [
       "<div>\n",
       "<style scoped>\n",
       "    .dataframe tbody tr th:only-of-type {\n",
       "        vertical-align: middle;\n",
       "    }\n",
       "\n",
       "    .dataframe tbody tr th {\n",
       "        vertical-align: top;\n",
       "    }\n",
       "\n",
       "    .dataframe thead th {\n",
       "        text-align: right;\n",
       "    }\n",
       "</style>\n",
       "<table border=\"1\" class=\"dataframe\">\n",
       "  <thead>\n",
       "    <tr style=\"text-align: right;\">\n",
       "      <th></th>\n",
       "      <th>curtailed_power</th>\n",
       "    </tr>\n",
       "    <tr>\n",
       "      <th>inzet</th>\n",
       "      <th></th>\n",
       "    </tr>\n",
       "  </thead>\n",
       "  <tbody>\n",
       "    <tr>\n",
       "      <th>gepland</th>\n",
       "      <td>-168.735714</td>\n",
       "    </tr>\n",
       "    <tr>\n",
       "      <th>ongepland</th>\n",
       "      <td>-21.394286</td>\n",
       "    </tr>\n",
       "  </tbody>\n",
       "</table>\n",
       "</div>"
      ],
      "text/plain": [
       "           curtailed_power\n",
       "inzet                     \n",
       "gepland        -168.735714\n",
       "ongepland       -21.394286"
      ]
     },
     "execution_count": 9,
     "metadata": {},
     "output_type": "execute_result"
    }
   ],
   "source": [
    "# Compare curtailed energy \n",
    "scaled_mit_df.pivot_table(index='inzet', values='curtailed_power', aggfunc='sum')"
   ]
  },
  {
   "cell_type": "code",
   "execution_count": 10,
   "id": "31b055e4-6c84-427f-a04d-7a4cfe116a7a",
   "metadata": {},
   "outputs": [
    {
     "data": {
      "text/html": [
       "<div>\n",
       "<style scoped>\n",
       "    .dataframe tbody tr th:only-of-type {\n",
       "        vertical-align: middle;\n",
       "    }\n",
       "\n",
       "    .dataframe tbody tr th {\n",
       "        vertical-align: top;\n",
       "    }\n",
       "\n",
       "    .dataframe thead th {\n",
       "        text-align: right;\n",
       "    }\n",
       "</style>\n",
       "<table border=\"1\" class=\"dataframe\">\n",
       "  <thead>\n",
       "    <tr style=\"text-align: right;\">\n",
       "      <th></th>\n",
       "      <th>date</th>\n",
       "    </tr>\n",
       "    <tr>\n",
       "      <th>inzet</th>\n",
       "      <th></th>\n",
       "    </tr>\n",
       "  </thead>\n",
       "  <tbody>\n",
       "    <tr>\n",
       "      <th>gepland</th>\n",
       "      <td>48</td>\n",
       "    </tr>\n",
       "    <tr>\n",
       "      <th>ongepland</th>\n",
       "      <td>7</td>\n",
       "    </tr>\n",
       "  </tbody>\n",
       "</table>\n",
       "</div>"
      ],
      "text/plain": [
       "           date\n",
       "inzet          \n",
       "gepland      48\n",
       "ongepland     7"
      ]
     },
     "execution_count": 10,
     "metadata": {},
     "output_type": "execute_result"
    }
   ],
   "source": [
    "# Count days\n",
    "scaled_mit_df.pivot_table(index='inzet', values='date', aggfunc='nunique')"
   ]
  },
  {
   "cell_type": "code",
   "execution_count": 11,
   "id": "bda2ee91-39d4-4ce7-8f14-7bd53108c615",
   "metadata": {},
   "outputs": [
    {
     "data": {
      "text/html": [
       "<div>\n",
       "<style scoped>\n",
       "    .dataframe tbody tr th:only-of-type {\n",
       "        vertical-align: middle;\n",
       "    }\n",
       "\n",
       "    .dataframe tbody tr th {\n",
       "        vertical-align: top;\n",
       "    }\n",
       "\n",
       "    .dataframe thead th {\n",
       "        text-align: right;\n",
       "    }\n",
       "</style>\n",
       "<table border=\"1\" class=\"dataframe\">\n",
       "  <thead>\n",
       "    <tr style=\"text-align: right;\">\n",
       "      <th></th>\n",
       "      <th>date</th>\n",
       "    </tr>\n",
       "    <tr>\n",
       "      <th>inzet</th>\n",
       "      <th></th>\n",
       "    </tr>\n",
       "  </thead>\n",
       "  <tbody>\n",
       "    <tr>\n",
       "      <th>gepland</th>\n",
       "      <td>15</td>\n",
       "    </tr>\n",
       "    <tr>\n",
       "      <th>ongepland</th>\n",
       "      <td>1</td>\n",
       "    </tr>\n",
       "  </tbody>\n",
       "</table>\n",
       "</div>"
      ],
      "text/plain": [
       "           date\n",
       "inzet          \n",
       "gepland      15\n",
       "ongepland     1"
      ]
     },
     "execution_count": 11,
     "metadata": {},
     "output_type": "execute_result"
    }
   ],
   "source": [
    "scaled_mit_df['2021-02-27':'2022-03-30'].pivot_table(index='inzet', values='date', aggfunc='nunique')"
   ]
  },
  {
   "cell_type": "code",
   "execution_count": 12,
   "id": "c89fc0f3-4594-4627-bfd1-1e7d89790771",
   "metadata": {},
   "outputs": [],
   "source": [
    "# Congestion window: march 20th - sept 7th (observed mitigations +- 1 week)"
   ]
  },
  {
   "cell_type": "code",
   "execution_count": 29,
   "id": "34104bce-70f7-414a-8fda-665f1af9c2bf",
   "metadata": {},
   "outputs": [],
   "source": [
    "# Add to central dataframe\n",
    "hal = hal.merge(scaled_mit_df['curtailed_power'], left_index=True, right_index=True, how='left')"
   ]
  },
  {
   "cell_type": "code",
   "execution_count": 30,
   "id": "cc9a91a2-9d12-4b53-83bc-56c6e8a5009e",
   "metadata": {},
   "outputs": [
    {
     "data": {
      "text/html": [
       "<iframe\n",
       "    scrolling=\"no\"\n",
       "    width=\"100%\"\n",
       "    height=\"545px\"\n",
       "    src=\"iframe_figures/figure_30.html\"\n",
       "    frameborder=\"0\"\n",
       "    allowfullscreen\n",
       "></iframe>\n"
      ]
     },
     "metadata": {},
     "output_type": "display_data"
    }
   ],
   "source": [
    "# Correct observations for congestion mitigations !!! Pay attention to the signs !!!\n",
    "hal['Uncurtailed_true'] = hal['Obs']+hal['curtailed_power'].fillna(0)\n",
    "hal['Wind_uncurtailed'] = hal['Wind']-hal['curtailed_power'].fillna(0) \n",
    "hal.resample('15T').mean().iplot()"
   ]
  },
  {
   "cell_type": "code",
   "execution_count": 39,
   "id": "16302f57-f16a-4f7b-8006-82f7215e7a7a",
   "metadata": {},
   "outputs": [],
   "source": [
    "## Give variables clear names\n",
    "clear_names = {'Uncurtailed_true':'Load_corrected_for_curtailment',\n",
    "               'Wind_uncurtailed':'Wind_reference',\n",
    "               'PV - reference':'PV_reference',\n",
    "               '24.0 Hours Ahead':'Day_ahead_forecast', \n",
    "}\n",
    "\n",
    "# Store relevant columns with clear names as inputs.csv\n",
    "hal[[col for col in clear_names.keys()]].rename(columns=clear_names).to_csv('input/prepped_inputs.csv')\n"
   ]
  },
  {
   "cell_type": "code",
   "execution_count": 40,
   "id": "8fb561ea-e705-4ed2-bfac-94723ecd7d04",
   "metadata": {},
   "outputs": [
    {
     "data": {
      "text/html": [
       "<iframe\n",
       "    scrolling=\"no\"\n",
       "    width=\"1020px\"\n",
       "    height=\"220\"\n",
       "    src=\"iframe_figures/figure_40.html\"\n",
       "    frameborder=\"0\"\n",
       "    allowfullscreen\n",
       "></iframe>\n"
      ]
     },
     "metadata": {},
     "output_type": "display_data"
    }
   ],
   "source": [
    "# Present overview of the timeseries\n",
    "hal['Realised - Total'].resample('1D').aggregate([np.max, np.median, np.min])\\\n",
    ".iplot(layout=dict(template='plotly_white', yaxis=dict(title='Measured load [MW]'), xaxis=dict(), width=1000, height=200, margin=dict(t=0,b=0,r=0,l=0)))"
   ]
  },
  {
   "cell_type": "code",
   "execution_count": 41,
   "id": "17dc102e-7b4b-4c72-9c6e-f3173e288951",
   "metadata": {},
   "outputs": [],
   "source": [
    "# Prep predictive features\n",
    "features = pd.read_csv('input/difficult_case_Hallum_ERC_from_2020-01-01_to_2022-08-03_test_data.csv', index_col=0, parse_dates=True) # Test data contains the relevant time period\n",
    "# Note that the weather features are timeshifted one hour! Fix this here for now\n",
    "weather_features = ['clouds', 'radiation', 'temp', 'winddeg', 'windspeed',\n",
    "       'windspeed_100m', 'pressure', 'humidity', 'rain', 'mxlD', 'snowDepth',\n",
    "       'clearSky_ulf', 'clearSky_dlf']\n",
    "features[weather_features]=features[weather_features].shift(freq='H', periods=1)\n",
    "\n",
    "# Only keep relevant time period and store as csv\n",
    "features[hal.index.min():hal.index.max()].to_csv('input/predictors.csv')\n"
   ]
  }
 ],
 "metadata": {
  "kernelspec": {
   "display_name": "Python 3 (ipykernel)",
   "language": "python",
   "name": "python3"
  },
  "language_info": {
   "codemirror_mode": {
    "name": "ipython",
    "version": 3
   },
   "file_extension": ".py",
   "mimetype": "text/x-python",
   "name": "python",
   "nbconvert_exporter": "python",
   "pygments_lexer": "ipython3",
   "version": "3.9.6"
  },
  "toc": {
   "base_numbering": 1,
   "nav_menu": {},
   "number_sections": true,
   "sideBar": true,
   "skip_h1_title": false,
   "title_cell": "Table of Contents",
   "title_sidebar": "Contents",
   "toc_cell": false,
   "toc_position": {},
   "toc_section_display": true,
   "toc_window_display": false
  }
 },
 "nbformat": 4,
 "nbformat_minor": 5
}
